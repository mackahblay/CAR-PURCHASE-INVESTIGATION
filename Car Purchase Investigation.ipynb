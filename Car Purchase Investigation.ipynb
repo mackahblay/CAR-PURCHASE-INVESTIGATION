{
 "cells": [
  {
   "cell_type": "markdown",
   "id": "d954e4dc-83ab-48b8-ae43-48d73182e73c",
   "metadata": {},
   "source": [
    "### Melchizedek Ackah-Blay\n",
    "\n",
    "December 11, 2024\n",
    "\n",
    "**Car Purchase Investigation**"
   ]
  },
  {
   "cell_type": "markdown",
   "id": "73b06a7c-1632-4aa8-939d-f6dbb0566126",
   "metadata": {},
   "source": [
    "*load libraries*"
   ]
  },
  {
   "cell_type": "code",
   "execution_count": 1,
   "id": "e961b51b-0210-4447-b255-3c5951d299c1",
   "metadata": {},
   "outputs": [],
   "source": [
    "import pandas as pd\n",
    "import numpy as np\n",
    "import matplotlib.pyplot as plt\n",
    "import matplotlib.style as style\n",
    "style.use('ggplot')\n",
    "import seaborn as sns\n",
    "\n",
    "import warnings as w\n",
    "w.filterwarnings('ignore')"
   ]
  },
  {
   "cell_type": "markdown",
   "id": "33ce2667-f12d-41bd-8504-f30b3d3feee0",
   "metadata": {},
   "source": [
    "*load dataset*"
   ]
  },
  {
   "cell_type": "code",
   "execution_count": 2,
   "id": "8bc19f5a-03d9-47ff-88de-0fd3b9c2a41a",
   "metadata": {},
   "outputs": [],
   "source": [
    "df = pd.read_csv(r'/Users/melki/Desktop/car_data.csv')"
   ]
  },
  {
   "cell_type": "markdown",
   "id": "4ad4dc33-4b5e-4919-bcfe-aacb24fe1ecf",
   "metadata": {},
   "source": [
    "*show sample data*"
   ]
  },
  {
   "cell_type": "code",
   "execution_count": 3,
   "id": "ee476d71-67c5-4ad3-b156-77e9a6a1a983",
   "metadata": {},
   "outputs": [
    {
     "data": {
      "text/html": [
       "<div>\n",
       "<style scoped>\n",
       "    .dataframe tbody tr th:only-of-type {\n",
       "        vertical-align: middle;\n",
       "    }\n",
       "\n",
       "    .dataframe tbody tr th {\n",
       "        vertical-align: top;\n",
       "    }\n",
       "\n",
       "    .dataframe thead th {\n",
       "        text-align: right;\n",
       "    }\n",
       "</style>\n",
       "<table border=\"1\" class=\"dataframe\">\n",
       "  <thead>\n",
       "    <tr style=\"text-align: right;\">\n",
       "      <th></th>\n",
       "      <th>User ID</th>\n",
       "      <th>Gender</th>\n",
       "      <th>Age</th>\n",
       "      <th>AnnualSalary</th>\n",
       "      <th>Purchased</th>\n",
       "    </tr>\n",
       "  </thead>\n",
       "  <tbody>\n",
       "    <tr>\n",
       "      <th>993</th>\n",
       "      <td>476</td>\n",
       "      <td>Female</td>\n",
       "      <td>54</td>\n",
       "      <td>136500</td>\n",
       "      <td>0</td>\n",
       "    </tr>\n",
       "    <tr>\n",
       "      <th>424</th>\n",
       "      <td>880</td>\n",
       "      <td>Male</td>\n",
       "      <td>63</td>\n",
       "      <td>36500</td>\n",
       "      <td>1</td>\n",
       "    </tr>\n",
       "    <tr>\n",
       "      <th>520</th>\n",
       "      <td>315</td>\n",
       "      <td>Male</td>\n",
       "      <td>56</td>\n",
       "      <td>40500</td>\n",
       "      <td>1</td>\n",
       "    </tr>\n",
       "    <tr>\n",
       "      <th>839</th>\n",
       "      <td>589</td>\n",
       "      <td>Male</td>\n",
       "      <td>35</td>\n",
       "      <td>38000</td>\n",
       "      <td>0</td>\n",
       "    </tr>\n",
       "  </tbody>\n",
       "</table>\n",
       "</div>"
      ],
      "text/plain": [
       "     User ID  Gender  Age  AnnualSalary  Purchased\n",
       "993      476  Female   54        136500          0\n",
       "424      880    Male   63         36500          1\n",
       "520      315    Male   56         40500          1\n",
       "839      589    Male   35         38000          0"
      ]
     },
     "execution_count": 3,
     "metadata": {},
     "output_type": "execute_result"
    }
   ],
   "source": [
    "df.sample(4)"
   ]
  },
  {
   "cell_type": "markdown",
   "id": "47814b75-d548-4620-a0ff-2d5964bbae5c",
   "metadata": {},
   "source": [
    "*dataset shape*"
   ]
  },
  {
   "cell_type": "code",
   "execution_count": 6,
   "id": "0484ad36-5f76-4ed9-a2d7-fb2e42e35c51",
   "metadata": {},
   "outputs": [
    {
     "data": {
      "text/plain": [
       "(1000, 5)"
      ]
     },
     "execution_count": 6,
     "metadata": {},
     "output_type": "execute_result"
    }
   ],
   "source": [
    "df.shape"
   ]
  },
  {
   "cell_type": "markdown",
   "id": "8e9c199f-9c5c-4207-893c-29dd20fd35e1",
   "metadata": {},
   "source": [
    "*data information*"
   ]
  },
  {
   "cell_type": "code",
   "execution_count": 4,
   "id": "cbe29a91-3a9c-4a7c-afc6-efd96b57c4bf",
   "metadata": {},
   "outputs": [
    {
     "name": "stdout",
     "output_type": "stream",
     "text": [
      "<class 'pandas.core.frame.DataFrame'>\n",
      "RangeIndex: 1000 entries, 0 to 999\n",
      "Data columns (total 5 columns):\n",
      " #   Column        Non-Null Count  Dtype \n",
      "---  ------        --------------  ----- \n",
      " 0   User ID       1000 non-null   int64 \n",
      " 1   Gender        1000 non-null   object\n",
      " 2   Age           1000 non-null   int64 \n",
      " 3   AnnualSalary  1000 non-null   int64 \n",
      " 4   Purchased     1000 non-null   int64 \n",
      "dtypes: int64(4), object(1)\n",
      "memory usage: 39.2+ KB\n"
     ]
    }
   ],
   "source": [
    "df.info()"
   ]
  },
  {
   "cell_type": "markdown",
   "id": "d5ef6eda-9f1f-47de-a53a-8fc5113c55c9",
   "metadata": {},
   "source": [
    "*summary statistics*"
   ]
  },
  {
   "cell_type": "code",
   "execution_count": 5,
   "id": "3620fcf8-cb8f-492e-89dd-19cbbc6c6455",
   "metadata": {},
   "outputs": [
    {
     "data": {
      "text/html": [
       "<div>\n",
       "<style scoped>\n",
       "    .dataframe tbody tr th:only-of-type {\n",
       "        vertical-align: middle;\n",
       "    }\n",
       "\n",
       "    .dataframe tbody tr th {\n",
       "        vertical-align: top;\n",
       "    }\n",
       "\n",
       "    .dataframe thead th {\n",
       "        text-align: right;\n",
       "    }\n",
       "</style>\n",
       "<table border=\"1\" class=\"dataframe\">\n",
       "  <thead>\n",
       "    <tr style=\"text-align: right;\">\n",
       "      <th></th>\n",
       "      <th>User ID</th>\n",
       "      <th>Age</th>\n",
       "      <th>AnnualSalary</th>\n",
       "      <th>Purchased</th>\n",
       "    </tr>\n",
       "  </thead>\n",
       "  <tbody>\n",
       "    <tr>\n",
       "      <th>count</th>\n",
       "      <td>1000.000000</td>\n",
       "      <td>1000.000000</td>\n",
       "      <td>1000.000000</td>\n",
       "      <td>1000.000000</td>\n",
       "    </tr>\n",
       "    <tr>\n",
       "      <th>mean</th>\n",
       "      <td>500.500000</td>\n",
       "      <td>40.106000</td>\n",
       "      <td>72689.000000</td>\n",
       "      <td>0.402000</td>\n",
       "    </tr>\n",
       "    <tr>\n",
       "      <th>std</th>\n",
       "      <td>288.819436</td>\n",
       "      <td>10.707073</td>\n",
       "      <td>34488.341867</td>\n",
       "      <td>0.490547</td>\n",
       "    </tr>\n",
       "    <tr>\n",
       "      <th>min</th>\n",
       "      <td>1.000000</td>\n",
       "      <td>18.000000</td>\n",
       "      <td>15000.000000</td>\n",
       "      <td>0.000000</td>\n",
       "    </tr>\n",
       "    <tr>\n",
       "      <th>25%</th>\n",
       "      <td>250.750000</td>\n",
       "      <td>32.000000</td>\n",
       "      <td>46375.000000</td>\n",
       "      <td>0.000000</td>\n",
       "    </tr>\n",
       "    <tr>\n",
       "      <th>50%</th>\n",
       "      <td>500.500000</td>\n",
       "      <td>40.000000</td>\n",
       "      <td>72000.000000</td>\n",
       "      <td>0.000000</td>\n",
       "    </tr>\n",
       "    <tr>\n",
       "      <th>75%</th>\n",
       "      <td>750.250000</td>\n",
       "      <td>48.000000</td>\n",
       "      <td>90000.000000</td>\n",
       "      <td>1.000000</td>\n",
       "    </tr>\n",
       "    <tr>\n",
       "      <th>max</th>\n",
       "      <td>1000.000000</td>\n",
       "      <td>63.000000</td>\n",
       "      <td>152500.000000</td>\n",
       "      <td>1.000000</td>\n",
       "    </tr>\n",
       "  </tbody>\n",
       "</table>\n",
       "</div>"
      ],
      "text/plain": [
       "           User ID          Age   AnnualSalary    Purchased\n",
       "count  1000.000000  1000.000000    1000.000000  1000.000000\n",
       "mean    500.500000    40.106000   72689.000000     0.402000\n",
       "std     288.819436    10.707073   34488.341867     0.490547\n",
       "min       1.000000    18.000000   15000.000000     0.000000\n",
       "25%     250.750000    32.000000   46375.000000     0.000000\n",
       "50%     500.500000    40.000000   72000.000000     0.000000\n",
       "75%     750.250000    48.000000   90000.000000     1.000000\n",
       "max    1000.000000    63.000000  152500.000000     1.000000"
      ]
     },
     "execution_count": 5,
     "metadata": {},
     "output_type": "execute_result"
    }
   ],
   "source": [
    "df.describe()"
   ]
  },
  {
   "cell_type": "markdown",
   "id": "e85cc48d-8999-4c5c-9fbc-c0bd20fdc5cd",
   "metadata": {},
   "source": [
    "*null values*"
   ]
  },
  {
   "cell_type": "code",
   "execution_count": 7,
   "id": "d4659856-2758-44b9-995d-38d302ab532d",
   "metadata": {},
   "outputs": [
    {
     "data": {
      "text/plain": [
       "User ID         0\n",
       "Gender          0\n",
       "Age             0\n",
       "AnnualSalary    0\n",
       "Purchased       0\n",
       "dtype: int64"
      ]
     },
     "execution_count": 7,
     "metadata": {},
     "output_type": "execute_result"
    }
   ],
   "source": [
    "df.isna().sum()"
   ]
  },
  {
   "cell_type": "markdown",
   "id": "14b7da8e-996e-4477-9a72-d3c4ee738502",
   "metadata": {},
   "source": [
    "*duplicated values*"
   ]
  },
  {
   "cell_type": "code",
   "execution_count": 8,
   "id": "da1e668d-b4c7-4a53-828f-7d0ffa56ab2a",
   "metadata": {},
   "outputs": [
    {
     "data": {
      "text/plain": [
       "0"
      ]
     },
     "execution_count": 8,
     "metadata": {},
     "output_type": "execute_result"
    }
   ],
   "source": [
    "df.duplicated().sum()"
   ]
  },
  {
   "cell_type": "markdown",
   "id": "5f7f6a42-9008-4fc6-8406-987c660444fb",
   "metadata": {},
   "source": [
    "*adjusting column names*"
   ]
  },
  {
   "cell_type": "code",
   "execution_count": 9,
   "id": "0b5c188c-ef38-4ff5-b5e0-f00aa97b2f76",
   "metadata": {},
   "outputs": [],
   "source": [
    "df.columns = df.columns.str.lower()"
   ]
  },
  {
   "cell_type": "markdown",
   "id": "a3b98ad2-6f7c-4d4b-9f54-34af1c806c37",
   "metadata": {},
   "source": [
    "*dropping unnecessary columns*"
   ]
  },
  {
   "cell_type": "code",
   "execution_count": 10,
   "id": "34f6edfc-85af-4afb-8ec6-a52cf2c19c4f",
   "metadata": {},
   "outputs": [
    {
     "data": {
      "text/html": [
       "<div>\n",
       "<style scoped>\n",
       "    .dataframe tbody tr th:only-of-type {\n",
       "        vertical-align: middle;\n",
       "    }\n",
       "\n",
       "    .dataframe tbody tr th {\n",
       "        vertical-align: top;\n",
       "    }\n",
       "\n",
       "    .dataframe thead th {\n",
       "        text-align: right;\n",
       "    }\n",
       "</style>\n",
       "<table border=\"1\" class=\"dataframe\">\n",
       "  <thead>\n",
       "    <tr style=\"text-align: right;\">\n",
       "      <th></th>\n",
       "      <th>gender</th>\n",
       "      <th>age</th>\n",
       "      <th>annualsalary</th>\n",
       "      <th>purchased</th>\n",
       "    </tr>\n",
       "  </thead>\n",
       "  <tbody>\n",
       "    <tr>\n",
       "      <th>0</th>\n",
       "      <td>Male</td>\n",
       "      <td>35</td>\n",
       "      <td>20000</td>\n",
       "      <td>0</td>\n",
       "    </tr>\n",
       "    <tr>\n",
       "      <th>1</th>\n",
       "      <td>Male</td>\n",
       "      <td>40</td>\n",
       "      <td>43500</td>\n",
       "      <td>0</td>\n",
       "    </tr>\n",
       "    <tr>\n",
       "      <th>2</th>\n",
       "      <td>Male</td>\n",
       "      <td>49</td>\n",
       "      <td>74000</td>\n",
       "      <td>0</td>\n",
       "    </tr>\n",
       "    <tr>\n",
       "      <th>3</th>\n",
       "      <td>Male</td>\n",
       "      <td>40</td>\n",
       "      <td>107500</td>\n",
       "      <td>1</td>\n",
       "    </tr>\n",
       "  </tbody>\n",
       "</table>\n",
       "</div>"
      ],
      "text/plain": [
       "  gender  age  annualsalary  purchased\n",
       "0   Male   35         20000          0\n",
       "1   Male   40         43500          0\n",
       "2   Male   49         74000          0\n",
       "3   Male   40        107500          1"
      ]
     },
     "execution_count": 10,
     "metadata": {},
     "output_type": "execute_result"
    }
   ],
   "source": [
    "df.drop(columns = ['user id'], inplace = True)\n",
    "df.head(4)"
   ]
  },
  {
   "cell_type": "markdown",
   "id": "524ff2b5-7ee3-47b1-8c06-38682723e329",
   "metadata": {},
   "source": [
    "*gender distribution*"
   ]
  },
  {
   "cell_type": "code",
   "execution_count": 13,
   "id": "fb40237d-e22f-448c-9fad-16dbb4d28bd2",
   "metadata": {},
   "outputs": [
    {
     "data": {
      "text/html": [
       "<div>\n",
       "<style scoped>\n",
       "    .dataframe tbody tr th:only-of-type {\n",
       "        vertical-align: middle;\n",
       "    }\n",
       "\n",
       "    .dataframe tbody tr th {\n",
       "        vertical-align: top;\n",
       "    }\n",
       "\n",
       "    .dataframe thead th {\n",
       "        text-align: right;\n",
       "    }\n",
       "</style>\n",
       "<table border=\"1\" class=\"dataframe\">\n",
       "  <thead>\n",
       "    <tr style=\"text-align: right;\">\n",
       "      <th></th>\n",
       "      <th>count</th>\n",
       "    </tr>\n",
       "    <tr>\n",
       "      <th>gender</th>\n",
       "      <th></th>\n",
       "    </tr>\n",
       "  </thead>\n",
       "  <tbody>\n",
       "    <tr>\n",
       "      <th>Female</th>\n",
       "      <td>516</td>\n",
       "    </tr>\n",
       "    <tr>\n",
       "      <th>Male</th>\n",
       "      <td>484</td>\n",
       "    </tr>\n",
       "  </tbody>\n",
       "</table>\n",
       "</div>"
      ],
      "text/plain": [
       "        count\n",
       "gender       \n",
       "Female    516\n",
       "Male      484"
      ]
     },
     "execution_count": 13,
     "metadata": {},
     "output_type": "execute_result"
    }
   ],
   "source": [
    "gen_dist = df['gender'].value_counts(ascending = False)\n",
    "pd.DataFrame(gen_dist)"
   ]
  },
  {
   "cell_type": "code",
   "execution_count": 14,
   "id": "3e4f4707-1f30-44a7-a1cf-5c682b327759",
   "metadata": {},
   "outputs": [
    {
     "data": {
      "image/png": "[encoded data removed]",
      "text/plain": [
       "<Figure size 400x400 with 1 Axes>"
      ]
     },
     "metadata": {},
     "output_type": "display_data"
    }
   ],
   "source": [
    "plt.figure(figsize = (4,4))\n",
    "gen_dist.plot(kind = 'pie', autopct = '%1.1f%%')\n",
    "plt.title('Gender Distribution', fontsize = 11)\n",
    "plt.xlabel('')\n",
    "plt.ylabel('')\n",
    "plt.show()"
   ]
  },
  {
   "cell_type": "markdown",
   "id": "7a52877f-708b-4cbe-82ff-06d17e1b2788",
   "metadata": {},
   "source": [
    "*age distribution of customers*"
   ]
  },
  {
   "cell_type": "code",
   "execution_count": 31,
   "id": "9c0ee4e2-55c3-42d9-bf9c-12ac543e1b7c",
   "metadata": {},
   "outputs": [
    {
     "data": {
      "image/png": "[encoded data removed]",
      "text/plain": [
       "<Figure size 1000x400 with 1 Axes>"
      ]
     },
     "metadata": {},
     "output_type": "display_data"
    }
   ],
   "source": [
    "plt.figure(figsize = (10, 4))\n",
    "plt.hist(df['age'], density = True, color = 'lightyellow', edgecolor = 'black', bins = 20)\n",
    "sns.kdeplot(df['age'], color = 'goldenrod', linestyle = '--', linewidth = 1.5)\n",
    "plt.title('Age Distribution', fontsize = 11)\n",
    "plt.xlabel('\\nAge', fontsize = 9.5)\n",
    "plt.ylabel('Frequency', fontsize = 9.5)\n",
    "plt.show()"
   ]
  },
  {
   "cell_type": "markdown",
   "id": "0457da83-df0b-40b0-9e3b-f9eebfc86454",
   "metadata": {},
   "source": [
    "*salary distribution of customers*"
   ]
  },
  {
   "cell_type": "code",
   "execution_count": 35,
   "id": "ba4214b8-9516-4b49-b3fd-0c9845b6744d",
   "metadata": {},
   "outputs": [
    {
     "data": {
      "image/png": "[encoded data removed]",
      "text/plain": [
       "<Figure size 1000x400 with 1 Axes>"
      ]
     },
     "metadata": {},
     "output_type": "display_data"
    }
   ],
   "source": [
    "plt.figure(figsize = (10, 4))\n",
    "plt.hist(df['annualsalary'], density = True, color = 'lightgray', edgecolor = 'black', bins = 30)\n",
    "sns.kdeplot(df['annualsalary'], color = 'dimgray', linestyle = '--', linewidth = 1.5)\n",
    "plt.title('Salary Distribution', fontsize = 11)\n",
    "plt.xlabel('\\nSalary', fontsize = 9.5)\n",
    "plt.ylabel('Frequency', fontsize = 9.5)\n",
    "plt.show()"
   ]
  },
  {
   "cell_type": "markdown",
   "id": "4395b1c9-f324-4c43-b141-c45bff5707b9",
   "metadata": {},
   "source": [
    "*gender and income analysis*"
   ]
  },
  {
   "cell_type": "code",
   "execution_count": 36,
   "id": "afcaa39a-e96f-4fb4-ae66-bfda17955175",
   "metadata": {},
   "outputs": [
    {
     "data": {
      "text/html": [
       "<div>\n",
       "<style scoped>\n",
       "    .dataframe tbody tr th:only-of-type {\n",
       "        vertical-align: middle;\n",
       "    }\n",
       "\n",
       "    .dataframe tbody tr th {\n",
       "        vertical-align: top;\n",
       "    }\n",
       "\n",
       "    .dataframe thead th {\n",
       "        text-align: right;\n",
       "    }\n",
       "</style>\n",
       "<table border=\"1\" class=\"dataframe\">\n",
       "  <thead>\n",
       "    <tr style=\"text-align: right;\">\n",
       "      <th></th>\n",
       "      <th>annualsalary</th>\n",
       "    </tr>\n",
       "    <tr>\n",
       "      <th>gender</th>\n",
       "      <th></th>\n",
       "    </tr>\n",
       "  </thead>\n",
       "  <tbody>\n",
       "    <tr>\n",
       "      <th>Female</th>\n",
       "      <td>74802.325581</td>\n",
       "    </tr>\n",
       "    <tr>\n",
       "      <th>Male</th>\n",
       "      <td>70435.950413</td>\n",
       "    </tr>\n",
       "  </tbody>\n",
       "</table>\n",
       "</div>"
      ],
      "text/plain": [
       "        annualsalary\n",
       "gender              \n",
       "Female  74802.325581\n",
       "Male    70435.950413"
      ]
     },
     "execution_count": 36,
     "metadata": {},
     "output_type": "execute_result"
    }
   ],
   "source": [
    "gend_inc = df.groupby('gender')['annualsalary'].mean().sort_values(ascending = False)\n",
    "pd.DataFrame(gend_inc)"
   ]
  },
  {
   "cell_type": "markdown",
   "id": "4a809599-9340-49f3-be9e-e3ff8c88358c",
   "metadata": {},
   "source": [
    "*purchases by gender*"
   ]
  },
  {
   "cell_type": "code",
   "execution_count": 49,
   "id": "57c53bc3-288d-4618-9824-2ac3309b4712",
   "metadata": {},
   "outputs": [
    {
     "data": {
      "image/png": "[encoded data removed]",
      "text/plain": [
       "<Figure size 600x400 with 1 Axes>"
      ]
     },
     "metadata": {},
     "output_type": "display_data"
    }
   ],
   "source": [
    "purc_gend = df.groupby(['gender', 'purchased'])['purchased'].count().unstack()\n",
    "purc_gend.plot(kind = 'bar', edgecolor = 'black', color = ['peachpuff', 'tomato'], figsize = (6, 4))\n",
    "plt.title('Purchases by Gender', fontsize = 11)\n",
    "plt.xlabel('Gender', fontsize = 9.5)\n",
    "plt.xticks(rotation = 0)\n",
    "plt.ylabel('Count', fontsize = 9.5)\n",
    "plt.legend(labels=['No', 'Yes'], fontsize = 9.5)\n",
    "plt.show()"
   ]
  },
  {
   "cell_type": "markdown",
   "id": "bc678c0a-d470-4a1b-a5a9-9470deb73978",
   "metadata": {},
   "source": [
    "*label encode gender*"
   ]
  },
  {
   "cell_type": "code",
   "execution_count": 51,
   "id": "172cbbde-501a-4e93-b521-02a5d6fb954e",
   "metadata": {},
   "outputs": [],
   "source": [
    "from sklearn.preprocessing import LabelEncoder\n",
    "e = LabelEncoder()\n",
    "df['gender'] = e.fit_transform(df['gender'])"
   ]
  },
  {
   "cell_type": "markdown",
   "id": "ba8fe384-6008-4a33-925e-2e239744231c",
   "metadata": {},
   "source": [
    "*split data into x and y*"
   ]
  },
  {
   "cell_type": "code",
   "execution_count": 157,
   "id": "d019fbd7-633a-417c-9889-6aa0a98f3e96",
   "metadata": {},
   "outputs": [],
   "source": [
    "x = df[['gender', 'age', 'annualsalary']]\n",
    "y = df['purchased']"
   ]
  },
  {
   "cell_type": "markdown",
   "id": "e0734f4f-3178-45cd-80c7-807abbcf5f80",
   "metadata": {},
   "source": [
    "*feature selection*"
   ]
  },
  {
   "cell_type": "code",
   "execution_count": 76,
   "id": "cd3a5366-3e49-4ac2-88f9-f7e3f7be1b6f",
   "metadata": {},
   "outputs": [],
   "source": [
    "from sklearn.feature_selection import SelectKBest, chi2\n",
    "selector = SelectKBest(score_func = chi2, k = 2)\n",
    "x_new = selector.fit_transform(x, y)"
   ]
  },
  {
   "cell_type": "markdown",
   "id": "6d0f9c29-0baf-4886-a4e3-4b4eb94bffae",
   "metadata": {},
   "source": [
    "*getting corresponding variables*"
   ]
  },
  {
   "cell_type": "code",
   "execution_count": 77,
   "id": "77168f3b-313b-4843-a437-1122f18f96d1",
   "metadata": {},
   "outputs": [
    {
     "name": "stdout",
     "output_type": "stream",
     "text": [
      "Selected Features:\n",
      "Index(['age', 'annualsalary'], dtype='object')\n"
     ]
    }
   ],
   "source": [
    "# Get the boolean mask of selected features\n",
    "selected_mask = selector.get_support()\n",
    "\n",
    "# Get the column names of the selected features\n",
    "selected_columns = x.columns[selected_mask]\n",
    "\n",
    "print(\"Selected Features:\")\n",
    "print(selected_columns)"
   ]
  },
  {
   "cell_type": "markdown",
   "id": "0b0a4355-e597-4c2f-a08a-8886a43be5ce",
   "metadata": {},
   "source": [
    "*split data into train and test*"
   ]
  },
  {
   "cell_type": "code",
   "execution_count": 90,
   "id": "01fe857b-fef9-408e-99fb-24531591fec5",
   "metadata": {},
   "outputs": [],
   "source": [
    "from sklearn.model_selection import train_test_split as t\n",
    "x_train, x_test, y_train, y_test = t(x_new, y, test_size = 0.2, random_state = 1)"
   ]
  },
  {
   "cell_type": "markdown",
   "id": "bb37b9bb-4628-40c9-920d-f8e72ffea0b8",
   "metadata": {},
   "source": [
    "*scale x values*"
   ]
  },
  {
   "cell_type": "code",
   "execution_count": 91,
   "id": "54457ed2-4d48-479c-9f9d-bba061aad753",
   "metadata": {},
   "outputs": [],
   "source": [
    "from sklearn.preprocessing import StandardScaler\n",
    "s = StandardScaler()\n",
    "x_train_scaled = s.fit_transform(x_train)\n",
    "x_test_scaled = s.fit_transform(x_test)"
   ]
  },
  {
   "cell_type": "markdown",
   "id": "594a0be2-6a0d-45f3-9b9d-fd28b4be6d77",
   "metadata": {},
   "source": [
    "*function to evaluate model*"
   ]
  },
  {
   "cell_type": "code",
   "execution_count": 92,
   "id": "4b6d3db1-13a4-416a-b940-703200d0e09f",
   "metadata": {},
   "outputs": [],
   "source": [
    "from sklearn.metrics import accuracy_score, f1_score\n",
    "\n",
    "def evaluator(pred):\n",
    "    print(f'accuracy score: {accuracy_score(y_test, pred)}')\n",
    "    print(f'F1 score: {f1_score(y_test, pred)}')"
   ]
  },
  {
   "cell_type": "markdown",
   "id": "86d2c2d4-ccf7-40b9-9353-10dff43a3a8b",
   "metadata": {},
   "source": [
    "*1st model: logistic regression*"
   ]
  },
  {
   "cell_type": "code",
   "execution_count": 93,
   "id": "ed281c97-de85-4c77-8c39-c3e5c07b63e7",
   "metadata": {},
   "outputs": [
    {
     "name": "stdout",
     "output_type": "stream",
     "text": [
      "accuracy score: 0.865\n",
      "F1 score: 0.816326530612245\n"
     ]
    }
   ],
   "source": [
    "from sklearn.linear_model import LogisticRegression\n",
    "l = LogisticRegression()\n",
    "\n",
    "# train model\n",
    "l.fit(x_train_scaled, y_train)\n",
    "\n",
    "# create predictor\n",
    "lp = l.predict(x_test_scaled)\n",
    "\n",
    "# evaluate model\n",
    "evaluator(lp)"
   ]
  },
  {
   "cell_type": "markdown",
   "id": "d29639d4-c2c8-40c9-aa76-e37f41a7fe61",
   "metadata": {},
   "source": [
    "*2nd model: KNeighbor Classifier*"
   ]
  },
  {
   "cell_type": "code",
   "execution_count": 119,
   "id": "36ddea84-6fae-4827-9a2f-6b37888ca6b1",
   "metadata": {},
   "outputs": [
    {
     "name": "stdout",
     "output_type": "stream",
     "text": [
      "accuracy score: 0.935\n",
      "F1 score: 0.9150326797385621\n"
     ]
    }
   ],
   "source": [
    "from sklearn.neighbors import KNeighborsClassifier\n",
    "from sklearn.model_selection import GridSearchCV\n",
    "\n",
    "# hyperparameters\n",
    "p1 = {\n",
    "    'n_neighbors':[4, 5, 10, 12],\n",
    "    'weights':['uniform', 'distance', None],\n",
    "    'leaf_size': [10, 20, 30, 40, 50],\n",
    "    'n_jobs':[None, 2, 5]\n",
    "}\n",
    "\n",
    "# train model\n",
    "k = GridSearchCV(KNeighborsClassifier(), param_grid = p1, cv = 5)\n",
    "k.fit(x_train_scaled, y_train)\n",
    "\n",
    "# create predictor\n",
    "kp = k.predict(x_test_scaled)\n",
    "\n",
    "# evaluate model\n",
    "evaluator(kp)"
   ]
  },
  {
   "cell_type": "code",
   "execution_count": 102,
   "id": "bbcaaf73-79d8-4a5d-b8be-999c2abd5240",
   "metadata": {},
   "outputs": [
    {
     "data": {
      "text/plain": [
       "{'n_jobs': 1, 'n_neighbors': 5, 'weights': 'uniform'}"
      ]
     },
     "execution_count": 102,
     "metadata": {},
     "output_type": "execute_result"
    }
   ],
   "source": [
    "# model's best parameters\n",
    "k.best_params_"
   ]
  },
  {
   "cell_type": "markdown",
   "id": "afe70d50-66a8-497f-ae8a-0775d4eb7fd1",
   "metadata": {},
   "source": [
    "*3rd model: Random Forest Classifier*"
   ]
  },
  {
   "cell_type": "code",
   "execution_count": 113,
   "id": "3d340f9d-fa0c-471c-b363-822623b855a4",
   "metadata": {},
   "outputs": [
    {
     "name": "stdout",
     "output_type": "stream",
     "text": [
      "accuracy score: 0.915\n",
      "F1 score: 0.8888888888888887\n"
     ]
    }
   ],
   "source": [
    "from sklearn.ensemble import RandomForestClassifier\n",
    "\n",
    "# hyperparameters\n",
    "p2 = {\n",
    "    'n_estimators':[50, 100, 200, ],\n",
    "    'min_samples_split':[2, 4, 6, 8, 10],\n",
    "    'max_depth':[None, 5, 10, 15]\n",
    "}\n",
    "\n",
    "# train model\n",
    "r = GridSearchCV(RandomForestClassifier(), param_grid = p2, cv = 3)\n",
    "r.fit(x_train_scaled, y_train)\n",
    "\n",
    "# create predictor\n",
    "rp = r.predict(x_test_scaled)\n",
    "\n",
    "# evaluate model\n",
    "evaluator(rp)"
   ]
  },
  {
   "cell_type": "code",
   "execution_count": 109,
   "id": "f84897d3-a22b-4792-b086-0c0e1c872e1d",
   "metadata": {},
   "outputs": [
    {
     "data": {
      "text/plain": [
       "{'criterion': 'gini', 'min_samples_split': 8, 'n_estimators': 50}"
      ]
     },
     "execution_count": 109,
     "metadata": {},
     "output_type": "execute_result"
    }
   ],
   "source": [
    "# model's best parameters\n",
    "r.best_params_"
   ]
  },
  {
   "cell_type": "markdown",
   "id": "b40eda34-ad94-4d97-9ae5-e161aa458acf",
   "metadata": {},
   "source": [
    "*4th model: Extreme Gradient Boosting Classifier*"
   ]
  },
  {
   "cell_type": "code",
   "execution_count": 133,
   "id": "f6189e74-ec49-4d10-9a85-62919a73375f",
   "metadata": {},
   "outputs": [
    {
     "name": "stdout",
     "output_type": "stream",
     "text": [
      "accuracy score: 0.905\n",
      "F1 score: 0.8789808917197452\n"
     ]
    }
   ],
   "source": [
    "from xgboost import XGBClassifier\n",
    "\n",
    "# hyperparameters\n",
    "p3 = {\n",
    "    'n_estimators': [100, 200, 300, 500],\n",
    "    'max_depth': [None, 5, 10], \n",
    "    'min_child_weight': [3, 5, 10], \n",
    "    'learning_rate': [0.01, 0.1, 1, 2],\n",
    "}\n",
    "\n",
    "# train model\n",
    "x = GridSearchCV(XGBClassifier(), param_grid = p3, cv = 5)\n",
    "x.fit(x_train_scaled, y_train)\n",
    "\n",
    "# create predictor\n",
    "xp = x.predict(x_test_scaled)\n",
    "\n",
    "# evaluate model\n",
    "evaluator(xp)"
   ]
  },
  {
   "cell_type": "code",
   "execution_count": 135,
   "id": "da71855b-faac-451f-91db-1d5ba1a303f5",
   "metadata": {},
   "outputs": [
    {
     "data": {
      "text/plain": [
       "{'learning_rate': 0.01,\n",
       " 'max_depth': None,\n",
       " 'min_child_weight': 10,\n",
       " 'n_estimators': 300}"
      ]
     },
     "execution_count": 135,
     "metadata": {},
     "output_type": "execute_result"
    }
   ],
   "source": [
    "# model's best parameters\n",
    "x.best_params_"
   ]
  },
  {
   "cell_type": "markdown",
   "id": "1f134a3d-a23c-4d5c-be34-2f18a39990e2",
   "metadata": {},
   "source": [
    "*5th model: Support Vector Classifier*"
   ]
  },
  {
   "cell_type": "code",
   "execution_count": 130,
   "id": "8143e536-11a9-4e2d-8afb-32319209a398",
   "metadata": {},
   "outputs": [
    {
     "name": "stdout",
     "output_type": "stream",
     "text": [
      "accuracy score: 0.93\n",
      "F1 score: 0.9090909090909091\n"
     ]
    }
   ],
   "source": [
    "from sklearn.svm import SVC\n",
    "\n",
    "# hyperparameters\n",
    "p4 = {\n",
    "    'C': [0.1, 1, 10, 20],\n",
    "    'kernel': ['linear', 'poly', 'rbf', 'sigmoid'], \n",
    "    'degree': [2, 3, 4, 10]\n",
    "}\n",
    "\n",
    "# train model\n",
    "s = GridSearchCV(SVC(), param_grid = p4, cv = 5)\n",
    "s.fit(x_train_scaled, y_train)\n",
    "\n",
    "# create predictor\n",
    "sp = s.predict(x_test_scaled)\n",
    "\n",
    "# evaluate model\n",
    "evaluator(sp)"
   ]
  },
  {
   "cell_type": "code",
   "execution_count": 134,
   "id": "6247a978-8b15-4218-91a6-9c4041945ec3",
   "metadata": {},
   "outputs": [
    {
     "data": {
      "text/plain": [
       "{'C': 10, 'degree': 2, 'kernel': 'rbf'}"
      ]
     },
     "execution_count": 134,
     "metadata": {},
     "output_type": "execute_result"
    }
   ],
   "source": [
    "# model's best parameters\n",
    "s.best_params_"
   ]
  },
  {
   "cell_type": "markdown",
   "id": "5246d7c9-ec19-40dc-8e72-ef51c91a9ca6",
   "metadata": {},
   "source": [
    "#### feature importance"
   ]
  },
  {
   "cell_type": "code",
   "execution_count": 153,
   "id": "60e18919-0553-4bd0-b7a0-e08b5846b928",
   "metadata": {},
   "outputs": [
    {
     "name": "stdout",
     "output_type": "stream",
     "text": [
      "Feature 0: Importance 0.287\n",
      "Feature 1: Importance 0.213\n"
     ]
    }
   ],
   "source": [
    "from sklearn.inspection import permutation_importance\n",
    "\n",
    "result = permutation_importance(k, x_test_scaled, y_test, scoring='accuracy')\n",
    "for i in result.importances_mean.argsort()[::-1]:\n",
    "    print(f\"Feature {i}: Importance {result.importances_mean[i]:.3f}\")"
   ]
  }
 ],
 "metadata": {
  "kernelspec": {
   "display_name": "Python 3 (ipykernel)",
   "language": "python",
   "name": "python3"
  },
  "language_info": {
   "codemirror_mode": {
    "name": "ipython",
    "version": 3
   },
   "file_extension": ".py",
   "mimetype": "text/x-python",
   "name": "python",
   "nbconvert_exporter": "python",
   "pygments_lexer": "ipython3",
   "version": "3.11.7"
  }
 },
 "nbformat": 4,
 "nbformat_minor": 5
}
